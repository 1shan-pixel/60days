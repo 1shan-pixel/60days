{
  "nbformat": 4,
  "nbformat_minor": 0,
  "metadata": {
    "colab": {
      "provenance": [],
      "gpuType": "T4"
    },
    "kernelspec": {
      "name": "python3",
      "display_name": "Python 3"
    },
    "language_info": {
      "name": "python"
    },
    "accelerator": "GPU"
  },
  "cells": [
    {
      "cell_type": "code",
      "execution_count": null,
      "metadata": {
        "colab": {
          "base_uri": "https://localhost:8080/"
        },
        "id": "1y8dM0_ZC28T",
        "outputId": "22648513-e1cf-4e0f-fe83-1044fb0fbc5c"
      },
      "outputs": [
        {
          "output_type": "stream",
          "name": "stdout",
          "text": [
            "epoch 0 loss 0.34836116433143616\n",
            "epoch 1 loss 0.018247151747345924\n",
            "epoch 2 loss 0.11211740225553513\n",
            "epoch 3 loss 0.01891380362212658\n",
            "epoch 4 loss 0.006701030768454075\n",
            "epoch 5 loss 0.019808664917945862\n",
            "epoch 6 loss 0.0026776217855513096\n",
            "epoch 7 loss 0.0024358220398426056\n",
            "epoch 8 loss 0.0015655708266422153\n",
            "epoch 9 loss 0.09077705442905426\n"
          ]
        }
      ],
      "source": [
        "from torch import nn ,save, load\n",
        "from torch.optim import Adam\n",
        "from torch.utils.data import DataLoader\n",
        "from torchvision import transforms\n",
        "from torchvision.transforms import ToTensor\n",
        "from torchvision import datasets\n",
        "\n",
        "\n",
        "mnist_dataset = datasets.MNIST(root=\"./content\", train=True, download=True, transform=ToTensor())\n",
        "dataset = DataLoader(mnist_dataset, batch_size=32, shuffle=True)\n",
        "\n",
        "class ImageClassifier(nn.Module):\n",
        "  def __init__(self,):\n",
        "    super().__init__()\n",
        "    self.model = nn.Sequential(\n",
        "        nn.Conv2d(1, 32, (3,3)),\n",
        "        nn.ReLU(),\n",
        "        nn.Conv2d(32, 64,  (3,3)),\n",
        "        nn.ReLU(),\n",
        "        nn.Conv2d(64, 64, (3,3)),\n",
        "        nn.ReLU(),\n",
        "        nn.Flatten() ,\n",
        "        nn.Linear(64*(28-6)*(28-6), 10) # remeber cnns are comprised of convolutional and linear layers, each convolution decrease the size of the image we are working with,\n",
        "    )\n",
        "\n",
        "  def forward(self, x):\n",
        "    return self.model(x)\n",
        "\n",
        "\n",
        "model = ImageClassifier().to('cuda')\n",
        "optimizer = Adam(model.parameters(), lr=0.001)\n",
        "loss_fn = nn.CrossEntropyLoss()\n",
        "\n",
        "#training , epoch = 10\n",
        "\n",
        "for epoch in range(10):\n",
        "  for batch in dataset:\n",
        "    X,y = batch\n",
        "    X = X.to('cuda')\n",
        "    y = y.to('cuda')\n",
        "    optimizer.zero_grad()\n",
        "    y_pred = model(X)\n",
        "    loss = loss_fn(y_pred, y)\n",
        "    optimizer.zero_grad() #sets gradients to zero of previous iteration\n",
        "    loss.backward()\n",
        "    optimizer.step()\n",
        "  print(f\"epoch {epoch} loss {loss.item()}\")\n",
        "\n",
        "with open(\"model_st.pt\", \"wb\") as f:\n",
        "  save(model.state_dict(), f)\n",
        "\n",
        "\n"
      ]
    },
    {
      "cell_type": "code",
      "source": [],
      "metadata": {
        "id": "27wZoMiLLrM0"
      },
      "execution_count": null,
      "outputs": []
    }
  ]
}